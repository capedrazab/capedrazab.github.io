{
 "cells": [
  {
   "cell_type": "markdown",
   "metadata": {},
   "source": [
    "## Cálculo de pi secuencial"
   ]
  },
  {
   "cell_type": "code",
   "execution_count": 1,
   "metadata": {},
   "outputs": [
    {
     "name": "stdout",
     "output_type": "stream",
     "text": [
      "\n",
      "pi: 3.141592658505 \n"
     ]
    }
   ],
   "source": [
    "#include <stdio.h>\n",
    "#include <stdlib.h>\n",
    "\n",
    "#define ITERATIONS 2e09\n",
    "\n",
    "int calculatePi(double *piTotal){   \n",
    "    int i = 0;\n",
    "    do{\n",
    "        *piTotal = *piTotal + (double)(4.0 / ((i*2)+1));\n",
    "        i++;\n",
    "        *piTotal = *piTotal - (double)(4.0 / ((i*2)+1));\n",
    "        i++;\n",
    "    }while(i < ITERATIONS);\n",
    "    return 0;\n",
    "}\n",
    "\n",
    "\n",
    "int main()\n",
    "{\n",
    "    double pi;\n",
    "    pi = 0;\n",
    "    calculatePi(&pi);\n",
    "    printf(\"\\npi: %2.12f \\n\", pi);\n",
    "}"
   ]
  },
  {
   "cell_type": "markdown",
   "metadata": {},
   "source": [
    "## Cálculo de pi con dos procesos"
   ]
  },
  {
   "cell_type": "code",
   "execution_count": 2,
   "metadata": {},
   "outputs": [
    {
     "name": "stdout",
     "output_type": "stream",
     "text": [
      "\n",
      "pi: 3.141592658506 \n"
     ]
    }
   ],
   "source": [
    "#include <stdio.h>\n",
    "#include <stdlib.h>\n",
    "#include <unistd.h>\n",
    "#include <sys/types.h>\n",
    "\n",
    "#define ITERATIONS 2e09\n",
    "\n",
    "int calculatePi(double *piTotal, int initIteration, int endIteration)\n",
    "{   int i = initIteration;\n",
    "    \n",
    "    do{\n",
    "        *piTotal = *piTotal + (double)(4.0 / ((i*2)+1));\n",
    "        i++;\n",
    "        *piTotal = *piTotal - (double)(4.0 / ((i*2)+1));\n",
    "        i++;\n",
    "    }while(i < endIteration);\n",
    "\n",
    "    return 0;\n",
    "}\n",
    "\n",
    "\n",
    "int main(){\n",
    "    \n",
    "    double pi, pi_hijo;\n",
    "    int pipefd[2], r;\n",
    "    pid_t pid;\n",
    "    \n",
    "    r = pipe(pipefd);\n",
    "    if(r < 0){\n",
    "        perror(\"error pipe: \");\n",
    "        exit(-1);\n",
    "    }\n",
    "    pi = 0;\n",
    "\n",
    "    pid = fork();\n",
    "    if(pid < 0){\n",
    "        perror(\"Error en fork \");\n",
    "        exit(-1);\n",
    "    } \n",
    "\n",
    "    if(pid == 0){  //hijo\n",
    "        close(pipefd[0]);\n",
    "        calculatePi(&pi, 0, (ITERATIONS/2) );\n",
    "        r = write(pipefd[1], &pi, sizeof(double));\n",
    "        if(r <= 0){\n",
    "            perror(\"error write: \");\n",
    "            exit(-1);\n",
    "        }        \n",
    "        close(pipefd[1]);\n",
    "        exit(0);\n",
    "    }else{   \n",
    "        close(pipefd[1]);\n",
    "        calculatePi(&pi, (ITERATIONS/2), ITERATIONS);\n",
    "        r = read(pipefd[0], &pi_hijo, sizeof(double));\n",
    "        if(r <= 0){\n",
    "            perror(\"error read: \");\n",
    "            exit(-1);\n",
    "        }\n",
    "        close(pipefd[0]);\n",
    "        pi = pi + pi_hijo;\n",
    "    }\n",
    "\n",
    "    printf(\"\\npi: %2.12f \\n\", pi);\n",
    "    return 0;\n",
    "}\n",
    "\n",
    "\n"
   ]
  },
  {
   "cell_type": "markdown",
   "metadata": {},
   "source": [
    "## Cálculo de pi con hilos posix"
   ]
  },
  {
   "cell_type": "code",
   "execution_count": 4,
   "metadata": {},
   "outputs": [
    {
     "name": "stdout",
     "output_type": "stream",
     "text": [
      "\n",
      "pi: 3.141592658507 \n"
     ]
    }
   ],
   "source": [
    "//%cflags:-lpthread -lm\n",
    "\n",
    "#include <stdio.h>\n",
    "#include <stdlib.h>\n",
    "#include <unistd.h>\n",
    "#include <pthread.h>\n",
    "\n",
    "#define ITERATIONS 2e09\n",
    "#define THREADS 8\n",
    "\n",
    "double piTotal[THREADS];\n",
    "\n",
    "void *calculatePi(void *arg)\n",
    "{\n",
    "  int initIteration, endIteration, threadId = *(int *)arg;\n",
    "\n",
    "  initIteration = (ITERATIONS/THREADS) * threadId;\n",
    "  endIteration = initIteration + ((ITERATIONS/THREADS) - 1);\n",
    "  piTotal[threadId] = 0.0;\n",
    "    do{\n",
    "        piTotal[threadId] = piTotal[threadId] + (double)(4.0 / ((initIteration*2)+1));\n",
    "        initIteration++;\n",
    "        piTotal[threadId] = piTotal[threadId] - (double)(4.0 / ((initIteration*2)+1));\n",
    "        initIteration++;\n",
    "    }while(initIteration < endIteration);\n",
    "\n",
    "    return 0;\n",
    "}\n",
    "\n",
    "int main()\n",
    "{\n",
    "    int threadId[THREADS], i, *retval;\n",
    "    pthread_t thread[THREADS];\n",
    "\n",
    "    for(i = 0; i < THREADS; i++){\n",
    "        threadId[i] = i;\n",
    "        pthread_create(&thread[i], NULL, (void *)calculatePi, &threadId[i]);\n",
    "    \n",
    "    }\n",
    "\n",
    "    for(i = 0; i < THREADS; i++){\n",
    "        pthread_join(thread[i], (void **)&retval);\n",
    "    }\n",
    "\n",
    "    for(i = 1; i < THREADS; i++){\n",
    "        piTotal[0] = piTotal[0] + piTotal[i];\n",
    "    }\n",
    "\n",
    "    printf(\"\\npi: %2.12f \\n\", piTotal[0]);\n",
    "}\n"
   ]
  },
  {
   "cell_type": "code",
   "execution_count": null,
   "metadata": {},
   "outputs": [],
   "source": []
  }
 ],
 "metadata": {
  "kernelspec": {
   "display_name": "C",
   "language": "c",
   "name": "c"
  },
  "language_info": {
   "file_extension": ".c",
   "mimetype": "text/plain",
   "name": "c"
  }
 },
 "nbformat": 4,
 "nbformat_minor": 2
}
